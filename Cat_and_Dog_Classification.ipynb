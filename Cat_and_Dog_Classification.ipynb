{
  "nbformat": 4,
  "nbformat_minor": 0,
  "metadata": {
    "colab": {
      "provenance": [],
      "gpuType": "T4"
    },
    "kernelspec": {
      "name": "python3",
      "display_name": "Python 3"
    },
    "language_info": {
      "name": "python"
    },
    "accelerator": "GPU"
  },
  "cells": [
    {
      "cell_type": "markdown",
      "source": [
        "# Cat and Dog Classifier"
      ],
      "metadata": {
        "id": "3X69R8odUxP5"
      }
    },
    {
      "cell_type": "code",
      "execution_count": 4,
      "metadata": {
        "id": "2UlsXZV1FNkd"
      },
      "outputs": [],
      "source": [
        "#important libraries\n",
        "\n",
        "import os\n",
        "import numpy as np\n",
        "import matplotlib.pyplot as plt\n",
        "from PIL import Image\n",
        "import tensorflow as tf\n",
        "from sklearn.model_selection import train_test_split\n",
        "import tensorflow as tf\n",
        "from tensorflow.keras.preprocessing.image import ImageDataGenerator\n",
        "from tensorflow.keras.models import Sequential\n",
        "from tensorflow.keras.layers import Conv2D, MaxPooling2D, Flatten, Dense, Dropout\n",
        "from tensorflow.keras.optimizers import Adam"
      ]
    },
    {
      "cell_type": "code",
      "source": [
        "from google.colab import drive\n",
        "drive.mount('/content/drive')"
      ],
      "metadata": {
        "id": "mSpGe-BeVN-w",
        "colab": {
          "base_uri": "https://localhost:8080/"
        },
        "outputId": "f8322471-7ef3-4e8a-c42d-ff59f5e045e7"
      },
      "execution_count": 5,
      "outputs": [
        {
          "output_type": "stream",
          "name": "stdout",
          "text": [
            "Drive already mounted at /content/drive; to attempt to forcibly remount, call drive.mount(\"/content/drive\", force_remount=True).\n"
          ]
        }
      ]
    },
    {
      "cell_type": "code",
      "source": [
        "cd '/content/drive/MyDrive/Dog and Cat dataset'"
      ],
      "metadata": {
        "id": "LttZgzlnV3N9",
        "colab": {
          "base_uri": "https://localhost:8080/"
        },
        "outputId": "6a6310d4-71cc-41d8-ece2-ebe5003b4286"
      },
      "execution_count": 6,
      "outputs": [
        {
          "output_type": "stream",
          "name": "stdout",
          "text": [
            "/content/drive/MyDrive/Dog and Cat dataset\n"
          ]
        }
      ]
    },
    {
      "cell_type": "code",
      "source": [
        "#set path of the dataset\n",
        "\n",
        "cat_images_path = \"/content/drive/MyDrive/Dog and Cat dataset/Cat\"\n",
        "dog_images_path = \"/content/drive/MyDrive/Dog and Cat dataset/Dog\""
      ],
      "metadata": {
        "id": "m0D1XSXmWVz6"
      },
      "execution_count": 15,
      "outputs": []
    },
    {
      "cell_type": "code",
      "source": [
        "print(\"Number of cat Images: \", len(os.listdir(cat_images_path)))\n",
        "print(\"Number of Dog Images: \", len(os.listdir(dog_images_path)))"
      ],
      "metadata": {
        "colab": {
          "base_uri": "https://localhost:8080/"
        },
        "id": "t2eMGpIUWnzh",
        "outputId": "250e9666-7d82-431b-807e-945f676b1648"
      },
      "execution_count": 16,
      "outputs": [
        {
          "output_type": "stream",
          "name": "stdout",
          "text": [
            "Number of cat Images:  500\n",
            "Number of Dog Images:  500\n"
          ]
        }
      ]
    },
    {
      "cell_type": "code",
      "source": [
        "# Get the number of cat and dog images\n",
        "num_cats = len(os.listdir(cat_images_path))\n",
        "num_dogs = len(os.listdir(dog_images_path))\n",
        "\n",
        "# Create the labels and sizes for the pie chart\n",
        "labels = ['Cats', 'Dogs']\n",
        "sizes = [num_cats, num_dogs]\n",
        "\n",
        "# Create the pie chart\n",
        "plt.pie(sizes, labels=labels, autopct='%1.1f%%', startangle=90)\n",
        "plt.axis('equal')  # Equal aspect ratio ensures that pie is drawn as a circle.\n",
        "plt.title('Distribution of Cat and Dog Images')\n",
        "plt.show()\n"
      ],
      "metadata": {
        "colab": {
          "base_uri": "https://localhost:8080/",
          "height": 428
        },
        "id": "MAhQP5FhW9n_",
        "outputId": "33c481b5-2bb3-499e-8b53-fe403acaf43a"
      },
      "execution_count": 17,
      "outputs": [
        {
          "output_type": "display_data",
          "data": {
            "text/plain": [
              "<Figure size 640x480 with 1 Axes>"
            ],
            "image/png": "[encoded data removed]"
          },
          "metadata": {}
        }
      ]
    },
    {
      "cell_type": "code",
      "source": [
        "# constant image size\n",
        "image_size = (180, 180)\n",
        "image_width, image_height = image_size"
      ],
      "metadata": {
        "id": "1AhkXAnDXVd3"
      },
      "execution_count": 18,
      "outputs": []
    },
    {
      "cell_type": "code",
      "source": [
        "# Function to read images and create a numpy arrays\n",
        "\n",
        "def load_images_from_folder(folder_path, label):\n",
        "  images =[]\n",
        "  labels = []\n",
        "  for filename in os.listdir(folder_path):\n",
        "    img_path = os.path.join(folder_path, filename)\n",
        "    img = Image.open(img_path).convert('RGB')\n",
        "    img = img.resize(image_size)\n",
        "    img_array = np.array(img)\n",
        "    images.append(img_array)\n",
        "    labels.append(label)\n",
        "\n",
        "  return images, labels"
      ],
      "metadata": {
        "id": "iWdq4uvbXdd1"
      },
      "execution_count": 14,
      "outputs": []
    },
    {
      "cell_type": "code",
      "source": [
        "# loading cat and dog images\n",
        "\n",
        "cat_images, cat_labels = load_images_from_folder(cat_images_path, 0)          # 0 label for cat\n",
        "dog_images, dog_labels = load_images_from_folder(dog_images_path, 1)          # 1 label for dog\n",
        "\n",
        "# Combine data\n",
        "X = np.array(cat_images + dog_images)\n",
        "y = np.array(cat_labels + dog_labels)"
      ],
      "metadata": {
        "id": "JaYHyl0_YWly"
      },
      "execution_count": 19,
      "outputs": []
    }
  ]
}